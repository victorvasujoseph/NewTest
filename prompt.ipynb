{
 "cells": [
  {
   "cell_type": "markdown",
   "metadata": {},
   "source": [
    "### Will a Customer Accept the Coupon?\n",
    "\n",
    "**Context**\n",
    "\n",
    "Imagine driving through town and a coupon is delivered to your cell phone for a restaraunt near where you are driving. Would you accept that coupon and take a short detour to the restaraunt? Would you accept the coupon but use it on a sunbsequent trip? Would you ignore the coupon entirely? What if the coupon was for a bar instead of a restaraunt? What about a coffee house? Would you accept a bar coupon with a minor passenger in the car? What about if it was just you and your partner in the car? Would weather impact the rate of acceptance? What about the time of day?\n",
    "\n",
    "Obviously, proximity to the business is a factor on whether the coupon is delivered to the driver or not, but what are the factors that determine whether a driver accepts the coupon once it is delivered to them? How would you determine whether a driver is likely to accept a coupon?\n",
    "\n",
    "**Overview**\n",
    "\n",
    "The goal of this project is to use what you know about visualizations and probability distributions to distinguish between customers who accepted a driving coupon versus those that did not.\n",
    "\n",
    "**Data**\n",
    "\n",
    "This data comes to us from the UCI Machine Learning repository and was collected via a survey on Amazon Mechanical Turk. The survey describes different driving scenarios including the destination, current time, weather, passenger, etc., and then ask the person whether he will accept the coupon if he is the driver. Answers that the user will drive there ‘right away’ or ‘later before the coupon expires’ are labeled as ‘Y = 1’ and answers ‘no, I do not want the coupon’ are labeled as ‘Y = 0’.  There are five different types of coupons -- less expensive restaurants (under \\\\$20), coffee houses, carry out & take away, bar, and more expensive restaurants (\\\\$20 - \\\\$50). "
   ]
  },
  {
   "cell_type": "markdown",
   "metadata": {},
   "source": [
    "**Deliverables**\n",
    "\n",
    "Your final product should be a brief report that highlights the differences between customers who did and did not accept the coupons.  To explore the data you will utilize your knowledge of plotting, statistical summaries, and visualization using Python. You will publish your findings in a public facing github repository as your first portfolio piece. \n",
    "\n",
    "\n",
    "\n"
   ]
  },
  {
   "cell_type": "markdown",
   "metadata": {},
   "source": [
    "### Data Description\n",
    "Keep in mind that these values mentioned below are average values.\n",
    "\n",
    "The attributes of this data set include:\n",
    "1. User attributes\n",
    "    -  Gender: male, female\n",
    "    -  Age: below 21, 21 to 25, 26 to 30, etc.\n",
    "    -  Marital Status: single, married partner, unmarried partner, or widowed\n",
    "    -  Number of children: 0, 1, or more than 1\n",
    "    -  Education: high school, bachelors degree, associates degree, or graduate degree\n",
    "    -  Occupation: architecture & engineering, business & financial, etc.\n",
    "    -  Annual income: less than \\\\$12500, \\\\$12500 - \\\\$24999, \\\\$25000 - \\\\$37499, etc.\n",
    "    -  Number of times that he/she goes to a bar: 0, less than 1, 1 to 3, 4 to 8 or greater than 8\n",
    "    -  Number of times that he/she buys takeaway food: 0, less than 1, 1 to 3, 4 to 8 or greater\n",
    "    than 8\n",
    "    -  Number of times that he/she goes to a coffee house: 0, less than 1, 1 to 3, 4 to 8 or\n",
    "    greater than 8\n",
    "    -  Number of times that he/she eats at a restaurant with average expense less than \\\\$20 per\n",
    "    person: 0, less than 1, 1 to 3, 4 to 8 or greater than 8\n",
    "    -  Number of times that he/she goes to a bar: 0, less than 1, 1 to 3, 4 to 8 or greater than 8\n",
    "    \n",
    "\n",
    "2. Contextual attributes\n",
    "    - Driving destination: home, work, or no urgent destination\n",
    "    - Location of user, coupon and destination: we provide a map to show the geographical\n",
    "    location of the user, destination, and the venue, and we mark the distance between each\n",
    "    two places with time of driving. The user can see whether the venue is in the same\n",
    "    direction as the destination.\n",
    "    - Weather: sunny, rainy, or snowy\n",
    "    - Temperature: 30F, 55F, or 80F\n",
    "    - Time: 10AM, 2PM, or 6PM\n",
    "    - Passenger: alone, partner, kid(s), or friend(s)\n",
    "\n",
    "\n",
    "3. Coupon attributes\n",
    "    - time before it expires: 2 hours or one day"
   ]
  },
  {
   "cell_type": "code",
   "execution_count": 23,
   "metadata": {},
   "outputs": [],
   "source": [
    "import matplotlib.pyplot as plt\n",
    "import seaborn as sns\n",
    "import pandas as pd\n",
    "import numpy as np\n",
    "import plotly.express as px"
   ]
  },
  {
   "cell_type": "markdown",
   "metadata": {},
   "source": [
    "### Problems\n",
    "\n",
    "Use the prompts below to get started with your data analysis.  \n",
    "\n",
    "1. Read in the `coupons.csv` file.\n",
    "\n",
    "\n"
   ]
  },
  {
   "cell_type": "code",
   "execution_count": 2,
   "metadata": {},
   "outputs": [],
   "source": [
    "data = pd.read_csv('data/coupons.csv')"
   ]
  },
  {
   "cell_type": "code",
   "execution_count": 3,
   "metadata": {},
   "outputs": [
    {
     "data": {
      "text/html": [
       "<div>\n",
       "<style scoped>\n",
       "    .dataframe tbody tr th:only-of-type {\n",
       "        vertical-align: middle;\n",
       "    }\n",
       "\n",
       "    .dataframe tbody tr th {\n",
       "        vertical-align: top;\n",
       "    }\n",
       "\n",
       "    .dataframe thead th {\n",
       "        text-align: right;\n",
       "    }\n",
       "</style>\n",
       "<table border=\"1\" class=\"dataframe\">\n",
       "  <thead>\n",
       "    <tr style=\"text-align: right;\">\n",
       "      <th></th>\n",
       "      <th>destination</th>\n",
       "      <th>passanger</th>\n",
       "      <th>weather</th>\n",
       "      <th>temperature</th>\n",
       "      <th>time</th>\n",
       "      <th>coupon</th>\n",
       "      <th>expiration</th>\n",
       "      <th>gender</th>\n",
       "      <th>age</th>\n",
       "      <th>maritalStatus</th>\n",
       "      <th>...</th>\n",
       "      <th>CoffeeHouse</th>\n",
       "      <th>CarryAway</th>\n",
       "      <th>RestaurantLessThan20</th>\n",
       "      <th>Restaurant20To50</th>\n",
       "      <th>toCoupon_GEQ5min</th>\n",
       "      <th>toCoupon_GEQ15min</th>\n",
       "      <th>toCoupon_GEQ25min</th>\n",
       "      <th>direction_same</th>\n",
       "      <th>direction_opp</th>\n",
       "      <th>Y</th>\n",
       "    </tr>\n",
       "  </thead>\n",
       "  <tbody>\n",
       "    <tr>\n",
       "      <th>0</th>\n",
       "      <td>No Urgent Place</td>\n",
       "      <td>Alone</td>\n",
       "      <td>Sunny</td>\n",
       "      <td>55</td>\n",
       "      <td>2PM</td>\n",
       "      <td>Restaurant(&lt;20)</td>\n",
       "      <td>1d</td>\n",
       "      <td>Female</td>\n",
       "      <td>21</td>\n",
       "      <td>Unmarried partner</td>\n",
       "      <td>...</td>\n",
       "      <td>never</td>\n",
       "      <td>NaN</td>\n",
       "      <td>4~8</td>\n",
       "      <td>1~3</td>\n",
       "      <td>1</td>\n",
       "      <td>0</td>\n",
       "      <td>0</td>\n",
       "      <td>0</td>\n",
       "      <td>1</td>\n",
       "      <td>1</td>\n",
       "    </tr>\n",
       "    <tr>\n",
       "      <th>1</th>\n",
       "      <td>No Urgent Place</td>\n",
       "      <td>Friend(s)</td>\n",
       "      <td>Sunny</td>\n",
       "      <td>80</td>\n",
       "      <td>10AM</td>\n",
       "      <td>Coffee House</td>\n",
       "      <td>2h</td>\n",
       "      <td>Female</td>\n",
       "      <td>21</td>\n",
       "      <td>Unmarried partner</td>\n",
       "      <td>...</td>\n",
       "      <td>never</td>\n",
       "      <td>NaN</td>\n",
       "      <td>4~8</td>\n",
       "      <td>1~3</td>\n",
       "      <td>1</td>\n",
       "      <td>0</td>\n",
       "      <td>0</td>\n",
       "      <td>0</td>\n",
       "      <td>1</td>\n",
       "      <td>0</td>\n",
       "    </tr>\n",
       "    <tr>\n",
       "      <th>2</th>\n",
       "      <td>No Urgent Place</td>\n",
       "      <td>Friend(s)</td>\n",
       "      <td>Sunny</td>\n",
       "      <td>80</td>\n",
       "      <td>10AM</td>\n",
       "      <td>Carry out &amp; Take away</td>\n",
       "      <td>2h</td>\n",
       "      <td>Female</td>\n",
       "      <td>21</td>\n",
       "      <td>Unmarried partner</td>\n",
       "      <td>...</td>\n",
       "      <td>never</td>\n",
       "      <td>NaN</td>\n",
       "      <td>4~8</td>\n",
       "      <td>1~3</td>\n",
       "      <td>1</td>\n",
       "      <td>1</td>\n",
       "      <td>0</td>\n",
       "      <td>0</td>\n",
       "      <td>1</td>\n",
       "      <td>1</td>\n",
       "    </tr>\n",
       "    <tr>\n",
       "      <th>3</th>\n",
       "      <td>No Urgent Place</td>\n",
       "      <td>Friend(s)</td>\n",
       "      <td>Sunny</td>\n",
       "      <td>80</td>\n",
       "      <td>2PM</td>\n",
       "      <td>Coffee House</td>\n",
       "      <td>2h</td>\n",
       "      <td>Female</td>\n",
       "      <td>21</td>\n",
       "      <td>Unmarried partner</td>\n",
       "      <td>...</td>\n",
       "      <td>never</td>\n",
       "      <td>NaN</td>\n",
       "      <td>4~8</td>\n",
       "      <td>1~3</td>\n",
       "      <td>1</td>\n",
       "      <td>1</td>\n",
       "      <td>0</td>\n",
       "      <td>0</td>\n",
       "      <td>1</td>\n",
       "      <td>0</td>\n",
       "    </tr>\n",
       "    <tr>\n",
       "      <th>4</th>\n",
       "      <td>No Urgent Place</td>\n",
       "      <td>Friend(s)</td>\n",
       "      <td>Sunny</td>\n",
       "      <td>80</td>\n",
       "      <td>2PM</td>\n",
       "      <td>Coffee House</td>\n",
       "      <td>1d</td>\n",
       "      <td>Female</td>\n",
       "      <td>21</td>\n",
       "      <td>Unmarried partner</td>\n",
       "      <td>...</td>\n",
       "      <td>never</td>\n",
       "      <td>NaN</td>\n",
       "      <td>4~8</td>\n",
       "      <td>1~3</td>\n",
       "      <td>1</td>\n",
       "      <td>1</td>\n",
       "      <td>0</td>\n",
       "      <td>0</td>\n",
       "      <td>1</td>\n",
       "      <td>0</td>\n",
       "    </tr>\n",
       "  </tbody>\n",
       "</table>\n",
       "<p>5 rows × 26 columns</p>\n",
       "</div>"
      ],
      "text/plain": [
       "       destination  passanger weather  temperature  time  \\\n",
       "0  No Urgent Place      Alone   Sunny           55   2PM   \n",
       "1  No Urgent Place  Friend(s)   Sunny           80  10AM   \n",
       "2  No Urgent Place  Friend(s)   Sunny           80  10AM   \n",
       "3  No Urgent Place  Friend(s)   Sunny           80   2PM   \n",
       "4  No Urgent Place  Friend(s)   Sunny           80   2PM   \n",
       "\n",
       "                  coupon expiration  gender age      maritalStatus  ...  \\\n",
       "0        Restaurant(<20)         1d  Female  21  Unmarried partner  ...   \n",
       "1           Coffee House         2h  Female  21  Unmarried partner  ...   \n",
       "2  Carry out & Take away         2h  Female  21  Unmarried partner  ...   \n",
       "3           Coffee House         2h  Female  21  Unmarried partner  ...   \n",
       "4           Coffee House         1d  Female  21  Unmarried partner  ...   \n",
       "\n",
       "   CoffeeHouse CarryAway RestaurantLessThan20 Restaurant20To50  \\\n",
       "0        never       NaN                  4~8              1~3   \n",
       "1        never       NaN                  4~8              1~3   \n",
       "2        never       NaN                  4~8              1~3   \n",
       "3        never       NaN                  4~8              1~3   \n",
       "4        never       NaN                  4~8              1~3   \n",
       "\n",
       "  toCoupon_GEQ5min toCoupon_GEQ15min toCoupon_GEQ25min direction_same  \\\n",
       "0                1                 0                 0              0   \n",
       "1                1                 0                 0              0   \n",
       "2                1                 1                 0              0   \n",
       "3                1                 1                 0              0   \n",
       "4                1                 1                 0              0   \n",
       "\n",
       "  direction_opp  Y  \n",
       "0             1  1  \n",
       "1             1  0  \n",
       "2             1  1  \n",
       "3             1  0  \n",
       "4             1  0  \n",
       "\n",
       "[5 rows x 26 columns]"
      ]
     },
     "execution_count": 3,
     "metadata": {},
     "output_type": "execute_result"
    }
   ],
   "source": [
    "data.head()"
   ]
  },
  {
   "cell_type": "markdown",
   "metadata": {},
   "source": [
    "2. Investigate the dataset for missing or problematic data."
   ]
  },
  {
   "cell_type": "code",
   "execution_count": 9,
   "metadata": {},
   "outputs": [
    {
     "name": "stdout",
     "output_type": "stream",
     "text": [
      "Missing values per column:\n",
      " destination                 0\n",
      "passanger                   0\n",
      "weather                     0\n",
      "temperature                 0\n",
      "time                        0\n",
      "coupon                      0\n",
      "expiration                  0\n",
      "gender                      0\n",
      "age                         0\n",
      "maritalStatus               0\n",
      "has_children                0\n",
      "education                   0\n",
      "occupation                  0\n",
      "income                      0\n",
      "car                     12576\n",
      "Bar                       107\n",
      "CoffeeHouse               217\n",
      "CarryAway                 151\n",
      "RestaurantLessThan20      130\n",
      "Restaurant20To50          189\n",
      "toCoupon_GEQ5min            0\n",
      "toCoupon_GEQ15min           0\n",
      "toCoupon_GEQ25min           0\n",
      "direction_same              0\n",
      "direction_opp               0\n",
      "Y                           0\n",
      "dtype: int64\n",
      "Percentage of missing values per column:\n",
      " destination              0.000000\n",
      "passanger                0.000000\n",
      "weather                  0.000000\n",
      "temperature              0.000000\n",
      "time                     0.000000\n",
      "coupon                   0.000000\n",
      "expiration               0.000000\n",
      "gender                   0.000000\n",
      "age                      0.000000\n",
      "maritalStatus            0.000000\n",
      "has_children             0.000000\n",
      "education                0.000000\n",
      "occupation               0.000000\n",
      "income                   0.000000\n",
      "car                     99.148534\n",
      "Bar                      0.843582\n",
      "CoffeeHouse              1.710817\n",
      "CarryAway                1.190476\n",
      "RestaurantLessThan20     1.024913\n",
      "Restaurant20To50         1.490066\n",
      "toCoupon_GEQ5min         0.000000\n",
      "toCoupon_GEQ15min        0.000000\n",
      "toCoupon_GEQ25min        0.000000\n",
      "direction_same           0.000000\n",
      "direction_opp            0.000000\n",
      "Y                        0.000000\n",
      "dtype: float64\n",
      "<class 'pandas.core.frame.DataFrame'>\n",
      "RangeIndex: 12684 entries, 0 to 12683\n",
      "Data columns (total 26 columns):\n",
      " #   Column                Non-Null Count  Dtype \n",
      "---  ------                --------------  ----- \n",
      " 0   destination           12684 non-null  object\n",
      " 1   passanger             12684 non-null  object\n",
      " 2   weather               12684 non-null  object\n",
      " 3   temperature           12684 non-null  int64 \n",
      " 4   time                  12684 non-null  object\n",
      " 5   coupon                12684 non-null  object\n",
      " 6   expiration            12684 non-null  object\n",
      " 7   gender                12684 non-null  object\n",
      " 8   age                   12684 non-null  object\n",
      " 9   maritalStatus         12684 non-null  object\n",
      " 10  has_children          12684 non-null  int64 \n",
      " 11  education             12684 non-null  object\n",
      " 12  occupation            12684 non-null  object\n",
      " 13  income                12684 non-null  object\n",
      " 14  car                   108 non-null    object\n",
      " 15  Bar                   12577 non-null  object\n",
      " 16  CoffeeHouse           12467 non-null  object\n",
      " 17  CarryAway             12533 non-null  object\n",
      " 18  RestaurantLessThan20  12554 non-null  object\n",
      " 19  Restaurant20To50      12495 non-null  object\n",
      " 20  toCoupon_GEQ5min      12684 non-null  int64 \n",
      " 21  toCoupon_GEQ15min     12684 non-null  int64 \n",
      " 22  toCoupon_GEQ25min     12684 non-null  int64 \n",
      " 23  direction_same        12684 non-null  int64 \n",
      " 24  direction_opp         12684 non-null  int64 \n",
      " 25  Y                     12684 non-null  int64 \n",
      "dtypes: int64(8), object(18)\n",
      "memory usage: 2.5+ MB\n",
      "Data Types and Missing Values Summary:\n",
      " None\n"
     ]
    }
   ],
   "source": [
    "# Check for missing values\n",
    "missing_values = data.isnull().sum()\n",
    "print(\"Missing values per column:\\n\", missing_values)\n",
    "\n",
    "# Percentage of missing values\n",
    "missing_percentage = (missing_values / len(data)) * 100\n",
    "print(\"Percentage of missing values per column:\\n\", missing_percentage)\n",
    "\n",
    "# Identify Outliers\n",
    "# Use box plots to identify outliers for numerical columns\n",
    "numerical_cols = data.select_dtypes(include=[np.number]).columns\n",
    "\n",
    "# Summary of Data Types\n",
    "# Get a summary of data types and missing values\n",
    "data_summary = data.info()\n",
    "print(\"Data Types and Missing Values Summary:\\n\", data_summary)"
   ]
  },
  {
   "cell_type": "markdown",
   "metadata": {},
   "source": [
    "3. Decide what to do about your missing data -- drop, replace, other..."
   ]
  },
  {
   "cell_type": "code",
   "execution_count": 15,
   "metadata": {},
   "outputs": [
    {
     "name": "stdout",
     "output_type": "stream",
     "text": [
      "<class 'pandas.core.frame.DataFrame'>\n",
      "RangeIndex: 12684 entries, 0 to 12683\n",
      "Data columns (total 25 columns):\n",
      " #   Column                Non-Null Count  Dtype \n",
      "---  ------                --------------  ----- \n",
      " 0   destination           12684 non-null  object\n",
      " 1   passanger             12684 non-null  object\n",
      " 2   weather               12684 non-null  object\n",
      " 3   temperature           12684 non-null  int64 \n",
      " 4   time                  12684 non-null  object\n",
      " 5   coupon                12684 non-null  object\n",
      " 6   expiration            12684 non-null  object\n",
      " 7   gender                12684 non-null  object\n",
      " 8   age                   12684 non-null  object\n",
      " 9   maritalStatus         12684 non-null  object\n",
      " 10  has_children          12684 non-null  int64 \n",
      " 11  education             12684 non-null  object\n",
      " 12  occupation            12684 non-null  object\n",
      " 13  income                12684 non-null  object\n",
      " 14  Bar                   12684 non-null  object\n",
      " 15  CoffeeHouse           12684 non-null  object\n",
      " 16  CarryAway             12684 non-null  object\n",
      " 17  RestaurantLessThan20  12684 non-null  object\n",
      " 18  Restaurant20To50      12684 non-null  object\n",
      " 19  toCoupon_GEQ5min      12684 non-null  int64 \n",
      " 20  toCoupon_GEQ15min     12684 non-null  int64 \n",
      " 21  toCoupon_GEQ25min     12684 non-null  int64 \n",
      " 22  direction_same        12684 non-null  int64 \n",
      " 23  direction_opp         12684 non-null  int64 \n",
      " 24  Y                     12684 non-null  int64 \n",
      "dtypes: int64(8), object(17)\n",
      "memory usage: 2.4+ MB\n"
     ]
    }
   ],
   "source": [
    "# 99percent of car data is missing - Lets's drop it.\n",
    "# Replace missing values with mode\n",
    "data = data.drop(columns=['car'])\n",
    "data['Bar'] = data['Bar'].fillna(data['Bar'].mode()[0])\n",
    "data['CoffeeHouse'] = data['CoffeeHouse'].fillna(data['CoffeeHouse'].mode()[0])\n",
    "data['CarryAway'] = data['CarryAway'].fillna(data['CarryAway'].mode()[0])\n",
    "data['RestaurantLessThan20'] = data['RestaurantLessThan20'].fillna(data['RestaurantLessThan20'].mode()[0])\n",
    "data['Restaurant20To50'] = data['Restaurant20To50'].fillna(data['Restaurant20To50'].mode()[0])\n",
    "data.info()"
   ]
  },
  {
   "cell_type": "code",
   "execution_count": 16,
   "metadata": {},
   "outputs": [
    {
     "data": {
      "text/plain": [
       "age\n",
       "21         2653\n",
       "26         2559\n",
       "31         2039\n",
       "50plus     1788\n",
       "36         1319\n",
       "41         1093\n",
       "46          686\n",
       "below21     547\n",
       "Name: count, dtype: int64"
      ]
     },
     "execution_count": 16,
     "metadata": {},
     "output_type": "execute_result"
    }
   ],
   "source": [
    "# age is type object, which could create problems, best to convert it to int64\n",
    "# check unique values and counts for column age\n",
    "data[\"age\"].value_counts()"
   ]
  },
  {
   "cell_type": "code",
   "execution_count": 18,
   "metadata": {},
   "outputs": [
    {
     "name": "stdout",
     "output_type": "stream",
     "text": [
      "int64\n"
     ]
    },
    {
     "data": {
      "text/plain": [
       "age\n",
       "21    2653\n",
       "26    2559\n",
       "31    2039\n",
       "55    1788\n",
       "36    1319\n",
       "41    1093\n",
       "46     686\n",
       "18     547\n",
       "Name: count, dtype: int64"
      ]
     },
     "execution_count": 18,
     "metadata": {},
     "output_type": "execute_result"
    }
   ],
   "source": [
    "# Replace '50plus' with a suitable numeric representation (e.g., 55)\n",
    "data['age'] = np.where(data['age'] == '50plus', 55, data['age'])\n",
    "\n",
    "# Convert 'below21' to 18 which is a common legal age and  convert all other ages to integers\n",
    "data['age'] = np.where(data['age'] == 'below21', 18, data['age']).astype(int)\n",
    "\n",
    "# check age column again for unique values & counts\n",
    "print(data[\"age\"].dtype)\n",
    "data[\"age\"].value_counts()"
   ]
  },
  {
   "cell_type": "code",
   "execution_count": 19,
   "metadata": {},
   "outputs": [
    {
     "name": "stdout",
     "output_type": "stream",
     "text": [
      "[3 5 1 6 4 2 8 7 0]\n",
      "int64\n"
     ]
    },
    {
     "data": {
      "text/plain": [
       "income\n",
       "2    2013\n",
       "1    1831\n",
       "3    1805\n",
       "8    1736\n",
       "4    1659\n",
       "0    1042\n",
       "7     895\n",
       "6     857\n",
       "5     846\n",
       "Name: count, dtype: int64"
      ]
     },
     "execution_count": 19,
     "metadata": {},
     "output_type": "execute_result"
    }
   ],
   "source": [
    "# Define the mapping dictionary for income column\n",
    "income_mapping = {\n",
    "    'Less than $12500': 0,\n",
    "    '$12500 - $24999': 1,\n",
    "    '$25000 - $37499': 2,\n",
    "    '$37500 - $49999': 3,\n",
    "    '$50000 - $62499': 4,\n",
    "    '$62500 - $74999': 5,\n",
    "    '$75000 - $87499': 6,\n",
    "    '$87500 - $99999': 7,\n",
    "    '$100000 or More': 8\n",
    "}\n",
    "\n",
    "# Map the income categories to numeric values\n",
    "data['income'] = data['income'].map(income_mapping)\n",
    "\n",
    "# Display unique values in the 'income' column to verify the mapping\n",
    "print(data['income'].unique())\n",
    "print(data['income'].dtype)\n",
    "data['income'].value_counts()"
   ]
  },
  {
   "cell_type": "markdown",
   "metadata": {},
   "source": [
    "4. What proportion of the total observations chose to accept the coupon? \n",
    "\n"
   ]
  },
  {
   "cell_type": "code",
   "execution_count": 20,
   "metadata": {},
   "outputs": [
    {
     "data": {
      "text/plain": [
       "56.84326710816777"
      ]
     },
     "execution_count": 20,
     "metadata": {},
     "output_type": "execute_result"
    }
   ],
   "source": [
    "#The proportion/percentage of the total observations chose to accept the coupon is 56.84\n",
    "(data[data['Y'] == 1].shape[0] / data['Y'].shape[0]) * 100"
   ]
  },
  {
   "cell_type": "code",
   "execution_count": 21,
   "metadata": {},
   "outputs": [
    {
     "data": {
      "image/png": "[encoded data removed]",
      "text/plain": [
       "<Figure size 640x480 with 1 Axes>"
      ]
     },
     "metadata": {},
     "output_type": "display_data"
    }
   ],
   "source": [
    "# Calculate how many accepted the coupon and how many didn't\n",
    "proportion_accepted = data[data['Y'] == 1].shape[0] \n",
    "proportion_not_accepted = data[data['Y'] == 0].shape[0] \n",
    "\n",
    "# Pie chart for visualization\n",
    "labels = ['Accepted Coupon (Y=1)', 'Did Not Accept Coupon (Y=0)']\n",
    "sizes = [proportion_accepted, proportion_not_accepted]\n",
    "colors = ['lightblue', 'lightcoral']\n",
    "explode = (0.1, 0)  # explode the 1st slice\n",
    "\n",
    "plt.pie(sizes, explode=explode, labels=labels, colors=colors, autopct='%1.1f%%', shadow=True, startangle=140)\n",
    "plt.axis('equal')  # Equal aspect ratio ensures that pie is drawn as a circle.\n",
    "plt.title('Proportion of Total Observations Accepting the Coupon')\n",
    "plt.show()"
   ]
  },
  {
   "cell_type": "code",
   "execution_count": 26,
   "metadata": {},
   "outputs": [
    {
     "name": "stdout",
     "output_type": "stream",
     "text": [
      "destination             object\n",
      "passanger               object\n",
      "weather                 object\n",
      "temperature              int64\n",
      "time                    object\n",
      "coupon                  object\n",
      "expiration              object\n",
      "gender                  object\n",
      "age                      int64\n",
      "maritalStatus           object\n",
      "has_children             int64\n",
      "education               object\n",
      "occupation              object\n",
      "income                   int64\n",
      "Bar                     object\n",
      "CoffeeHouse             object\n",
      "CarryAway               object\n",
      "RestaurantLessThan20    object\n",
      "Restaurant20To50        object\n",
      "toCoupon_GEQ5min         int64\n",
      "toCoupon_GEQ15min        int64\n",
      "toCoupon_GEQ25min        int64\n",
      "direction_same           int64\n",
      "direction_opp            int64\n",
      "Y                        int64\n",
      "dtype: object\n"
     ]
    }
   ],
   "source": [
    "print(data.dtypes)"
   ]
  },
  {
   "cell_type": "code",
   "execution_count": 48,
   "metadata": {},
   "outputs": [
    {
     "data": {
      "text/plain": [
       "Bar\n",
       "never    5304\n",
       "less1    3482\n",
       "1~3      2473\n",
       "4~8      1076\n",
       "gt8       349\n",
       "Name: count, dtype: int64"
      ]
     },
     "execution_count": 48,
     "metadata": {},
     "output_type": "execute_result"
    }
   ],
   "source": [
    "# Check the data and value counts\n",
    "data['Bar'].value_counts()"
   ]
  },
  {
   "cell_type": "markdown",
   "metadata": {},
   "source": [
    "5. Use a bar plot to visualize the `coupon` column."
   ]
  },
  {
   "cell_type": "code",
   "execution_count": 49,
   "metadata": {},
   "outputs": [
    {
     "data": {
      "image/png": "[encoded data removed]",
      "text/plain": [
       "<Figure size 1200x600 with 1 Axes>"
      ]
     },
     "metadata": {},
     "output_type": "display_data"
    }
   ],
   "source": [
    "# Convert the 'coupon' column to string \n",
    "data['coupon'] = data['coupon'].astype(str)\n",
    "plt.figure(figsize=(12, 6))\n",
    "sns.countplot(data=data, x='coupon', palette='viridis', order=data['coupon'].value_counts().index)\n",
    "plt.xticks(rotation=45)\n",
    "plt.title('Frequency Distribution of Coupons')\n",
    "plt.xlabel('Coupon Type')\n",
    "plt.ylabel('Count')\n",
    "plt.show()"
   ]
  },
  {
   "cell_type": "markdown",
   "metadata": {},
   "source": [
    "6. Use a histogram to visualize the temperature column."
   ]
  },
  {
   "cell_type": "code",
   "execution_count": 50,
   "metadata": {},
   "outputs": [
    {
     "name": "stdout",
     "output_type": "stream",
     "text": [
      "\n",
      "Summary statistics for the 'temperature' column:\n"
     ]
    },
    {
     "name": "stderr",
     "output_type": "stream",
     "text": [
      "/opt/anaconda3/lib/python3.11/site-packages/seaborn/_oldcore.py:1119: FutureWarning: use_inf_as_na option is deprecated and will be removed in a future version. Convert inf values to NaN before operating instead.\n",
      "  with pd.option_context('mode.use_inf_as_na', True):\n"
     ]
    },
    {
     "data": {
      "image/png": "[encoded data removed]",
      "text/plain": [
       "<Figure size 1000x600 with 1 Axes>"
      ]
     },
     "metadata": {},
     "output_type": "display_data"
    }
   ],
   "source": [
    "# Check the 'temperature' column\n",
    "print(\"\\nSummary statistics for the 'temperature' column:\")\n",
    "data['temperature'].describe()\n",
    "\n",
    "# Create the histogram with additional customization\n",
    "plt.figure(figsize=(10, 6))\n",
    "sns.histplot(data['temperature'], bins=30, kde=True, color='blue', edgecolor='black')\n",
    "plt.title('Distribution of Temperature')\n",
    "plt.xlabel('Temperature')\n",
    "plt.ylabel('Frequency')\n",
    "plt.show()"
   ]
  },
  {
   "cell_type": "code",
   "execution_count": 55,
   "metadata": {},
   "outputs": [
    {
     "data": {
      "text/plain": [
       "coupon\n",
       "Coffee House             3996\n",
       "Restaurant(<20)          2786\n",
       "Carry out & Take away    2393\n",
       "Bar                      2017\n",
       "Restaurant(20-50)        1492\n",
       "Name: count, dtype: int64"
      ]
     },
     "execution_count": 55,
     "metadata": {},
     "output_type": "execute_result"
    }
   ],
   "source": [
    "data['coupon'].value_counts()"
   ]
  },
  {
   "cell_type": "markdown",
   "metadata": {},
   "source": [
    "**Investigating the Bar Coupons**\n",
    "\n",
    "Now, we will lead you through an exploration of just the bar related coupons.  \n",
    "\n",
    "1. Create a new `DataFrame` that contains just the bar coupons.\n"
   ]
  },
  {
   "cell_type": "code",
   "execution_count": 57,
   "metadata": {},
   "outputs": [
    {
     "name": "stdout",
     "output_type": "stream",
     "text": [
      "\n",
      "New DataFrame with only 'bar' coupons info:\n",
      "<class 'pandas.core.frame.DataFrame'>\n",
      "Index: 2017 entries, 9 to 12682\n",
      "Data columns (total 25 columns):\n",
      " #   Column                Non-Null Count  Dtype \n",
      "---  ------                --------------  ----- \n",
      " 0   destination           2017 non-null   object\n",
      " 1   passanger             2017 non-null   object\n",
      " 2   weather               2017 non-null   object\n",
      " 3   temperature           2017 non-null   int64 \n",
      " 4   time                  2017 non-null   object\n",
      " 5   coupon                2017 non-null   object\n",
      " 6   expiration            2017 non-null   object\n",
      " 7   gender                2017 non-null   object\n",
      " 8   age                   2017 non-null   int64 \n",
      " 9   maritalStatus         2017 non-null   object\n",
      " 10  has_children          2017 non-null   int64 \n",
      " 11  education             2017 non-null   object\n",
      " 12  occupation            2017 non-null   object\n",
      " 13  income                2017 non-null   int64 \n",
      " 14  Bar                   2017 non-null   object\n",
      " 15  CoffeeHouse           2017 non-null   object\n",
      " 16  CarryAway             2017 non-null   object\n",
      " 17  RestaurantLessThan20  2017 non-null   object\n",
      " 18  Restaurant20To50      2017 non-null   object\n",
      " 19  toCoupon_GEQ5min      2017 non-null   int64 \n",
      " 20  toCoupon_GEQ15min     2017 non-null   int64 \n",
      " 21  toCoupon_GEQ25min     2017 non-null   int64 \n",
      " 22  direction_same        2017 non-null   int64 \n",
      " 23  direction_opp         2017 non-null   int64 \n",
      " 24  Y                     2017 non-null   int64 \n",
      "dtypes: int64(10), object(15)\n",
      "memory usage: 409.7+ KB\n",
      "None\n"
     ]
    }
   ],
   "source": [
    "\n",
    "# Filter the DataFrame to include only rows where the coupon is 'bar'\n",
    "bar_coupons = data[data['coupon'] == 'Bar']\n",
    "\n",
    "# Display info about the new DataFrame\n",
    "print(\"\\nNew DataFrame with only 'bar' coupons info:\")\n",
    "print(bar_coupons.info())"
   ]
  },
  {
   "cell_type": "code",
   "execution_count": 58,
   "metadata": {},
   "outputs": [
    {
     "data": {
      "text/html": [
       "<div>\n",
       "<style scoped>\n",
       "    .dataframe tbody tr th:only-of-type {\n",
       "        vertical-align: middle;\n",
       "    }\n",
       "\n",
       "    .dataframe tbody tr th {\n",
       "        vertical-align: top;\n",
       "    }\n",
       "\n",
       "    .dataframe thead th {\n",
       "        text-align: right;\n",
       "    }\n",
       "</style>\n",
       "<table border=\"1\" class=\"dataframe\">\n",
       "  <thead>\n",
       "    <tr style=\"text-align: right;\">\n",
       "      <th></th>\n",
       "      <th>destination</th>\n",
       "      <th>passanger</th>\n",
       "      <th>weather</th>\n",
       "      <th>temperature</th>\n",
       "      <th>time</th>\n",
       "      <th>coupon</th>\n",
       "      <th>expiration</th>\n",
       "      <th>gender</th>\n",
       "      <th>age</th>\n",
       "      <th>maritalStatus</th>\n",
       "      <th>...</th>\n",
       "      <th>CoffeeHouse</th>\n",
       "      <th>CarryAway</th>\n",
       "      <th>RestaurantLessThan20</th>\n",
       "      <th>Restaurant20To50</th>\n",
       "      <th>toCoupon_GEQ5min</th>\n",
       "      <th>toCoupon_GEQ15min</th>\n",
       "      <th>toCoupon_GEQ25min</th>\n",
       "      <th>direction_same</th>\n",
       "      <th>direction_opp</th>\n",
       "      <th>Y</th>\n",
       "    </tr>\n",
       "  </thead>\n",
       "  <tbody>\n",
       "    <tr>\n",
       "      <th>9</th>\n",
       "      <td>No Urgent Place</td>\n",
       "      <td>Kid(s)</td>\n",
       "      <td>Sunny</td>\n",
       "      <td>80</td>\n",
       "      <td>10AM</td>\n",
       "      <td>Bar</td>\n",
       "      <td>1d</td>\n",
       "      <td>Female</td>\n",
       "      <td>21</td>\n",
       "      <td>Unmarried partner</td>\n",
       "      <td>...</td>\n",
       "      <td>never</td>\n",
       "      <td>1~3</td>\n",
       "      <td>4~8</td>\n",
       "      <td>1~3</td>\n",
       "      <td>1</td>\n",
       "      <td>1</td>\n",
       "      <td>0</td>\n",
       "      <td>0</td>\n",
       "      <td>1</td>\n",
       "      <td>0</td>\n",
       "    </tr>\n",
       "    <tr>\n",
       "      <th>13</th>\n",
       "      <td>Home</td>\n",
       "      <td>Alone</td>\n",
       "      <td>Sunny</td>\n",
       "      <td>55</td>\n",
       "      <td>6PM</td>\n",
       "      <td>Bar</td>\n",
       "      <td>1d</td>\n",
       "      <td>Female</td>\n",
       "      <td>21</td>\n",
       "      <td>Unmarried partner</td>\n",
       "      <td>...</td>\n",
       "      <td>never</td>\n",
       "      <td>1~3</td>\n",
       "      <td>4~8</td>\n",
       "      <td>1~3</td>\n",
       "      <td>1</td>\n",
       "      <td>0</td>\n",
       "      <td>0</td>\n",
       "      <td>1</td>\n",
       "      <td>0</td>\n",
       "      <td>1</td>\n",
       "    </tr>\n",
       "    <tr>\n",
       "      <th>17</th>\n",
       "      <td>Work</td>\n",
       "      <td>Alone</td>\n",
       "      <td>Sunny</td>\n",
       "      <td>55</td>\n",
       "      <td>7AM</td>\n",
       "      <td>Bar</td>\n",
       "      <td>1d</td>\n",
       "      <td>Female</td>\n",
       "      <td>21</td>\n",
       "      <td>Unmarried partner</td>\n",
       "      <td>...</td>\n",
       "      <td>never</td>\n",
       "      <td>1~3</td>\n",
       "      <td>4~8</td>\n",
       "      <td>1~3</td>\n",
       "      <td>1</td>\n",
       "      <td>1</td>\n",
       "      <td>1</td>\n",
       "      <td>0</td>\n",
       "      <td>1</td>\n",
       "      <td>0</td>\n",
       "    </tr>\n",
       "    <tr>\n",
       "      <th>24</th>\n",
       "      <td>No Urgent Place</td>\n",
       "      <td>Friend(s)</td>\n",
       "      <td>Sunny</td>\n",
       "      <td>80</td>\n",
       "      <td>10AM</td>\n",
       "      <td>Bar</td>\n",
       "      <td>1d</td>\n",
       "      <td>Male</td>\n",
       "      <td>21</td>\n",
       "      <td>Single</td>\n",
       "      <td>...</td>\n",
       "      <td>less1</td>\n",
       "      <td>4~8</td>\n",
       "      <td>4~8</td>\n",
       "      <td>less1</td>\n",
       "      <td>1</td>\n",
       "      <td>0</td>\n",
       "      <td>0</td>\n",
       "      <td>0</td>\n",
       "      <td>1</td>\n",
       "      <td>1</td>\n",
       "    </tr>\n",
       "    <tr>\n",
       "      <th>35</th>\n",
       "      <td>Home</td>\n",
       "      <td>Alone</td>\n",
       "      <td>Sunny</td>\n",
       "      <td>55</td>\n",
       "      <td>6PM</td>\n",
       "      <td>Bar</td>\n",
       "      <td>1d</td>\n",
       "      <td>Male</td>\n",
       "      <td>21</td>\n",
       "      <td>Single</td>\n",
       "      <td>...</td>\n",
       "      <td>less1</td>\n",
       "      <td>4~8</td>\n",
       "      <td>4~8</td>\n",
       "      <td>less1</td>\n",
       "      <td>1</td>\n",
       "      <td>0</td>\n",
       "      <td>0</td>\n",
       "      <td>1</td>\n",
       "      <td>0</td>\n",
       "      <td>1</td>\n",
       "    </tr>\n",
       "  </tbody>\n",
       "</table>\n",
       "<p>5 rows × 25 columns</p>\n",
       "</div>"
      ],
      "text/plain": [
       "        destination  passanger weather  temperature  time coupon expiration  \\\n",
       "9   No Urgent Place     Kid(s)   Sunny           80  10AM    Bar         1d   \n",
       "13             Home      Alone   Sunny           55   6PM    Bar         1d   \n",
       "17             Work      Alone   Sunny           55   7AM    Bar         1d   \n",
       "24  No Urgent Place  Friend(s)   Sunny           80  10AM    Bar         1d   \n",
       "35             Home      Alone   Sunny           55   6PM    Bar         1d   \n",
       "\n",
       "    gender  age      maritalStatus  ...  CoffeeHouse CarryAway  \\\n",
       "9   Female   21  Unmarried partner  ...        never       1~3   \n",
       "13  Female   21  Unmarried partner  ...        never       1~3   \n",
       "17  Female   21  Unmarried partner  ...        never       1~3   \n",
       "24    Male   21             Single  ...        less1       4~8   \n",
       "35    Male   21             Single  ...        less1       4~8   \n",
       "\n",
       "   RestaurantLessThan20  Restaurant20To50 toCoupon_GEQ5min toCoupon_GEQ15min  \\\n",
       "9                   4~8               1~3                1                 1   \n",
       "13                  4~8               1~3                1                 0   \n",
       "17                  4~8               1~3                1                 1   \n",
       "24                  4~8             less1                1                 0   \n",
       "35                  4~8             less1                1                 0   \n",
       "\n",
       "   toCoupon_GEQ25min direction_same direction_opp  Y  \n",
       "9                  0              0             1  0  \n",
       "13                 0              1             0  1  \n",
       "17                 1              0             1  0  \n",
       "24                 0              0             1  1  \n",
       "35                 0              1             0  1  \n",
       "\n",
       "[5 rows x 25 columns]"
      ]
     },
     "execution_count": 58,
     "metadata": {},
     "output_type": "execute_result"
    }
   ],
   "source": [
    "bar_coupons.head()"
   ]
  },
  {
   "cell_type": "markdown",
   "metadata": {},
   "source": [
    "2. What proportion of bar coupons were accepted?\n"
   ]
  },
  {
   "cell_type": "code",
   "execution_count": 59,
   "metadata": {},
   "outputs": [
    {
     "name": "stdout",
     "output_type": "stream",
     "text": [
      "Total number of 'bar' coupons: 2017\n",
      "Number of accepted 'bar' coupons: 827\n",
      "Proportion of accepted 'bar' coupons: 0.41\n"
     ]
    }
   ],
   "source": [
    "total_bar_coupons = len(bar_coupons)\n",
    "\n",
    "# Number of accepted 'bar' coupons (Y == 1)\n",
    "accepted_bar_coupons = len(bar_coupons[bar_coupons['Y'] == 1])\n",
    "\n",
    "# Proportion of accepted 'bar' coupons\n",
    "proportion_accepted = accepted_bar_coupons / total_bar_coupons\n",
    "\n",
    "# Display the results\n",
    "print(f\"Total number of 'bar' coupons: {total_bar_coupons}\")\n",
    "print(f\"Number of accepted 'bar' coupons: {accepted_bar_coupons}\")\n",
    "print(f\"Proportion of accepted 'bar' coupons: {proportion_accepted:.2f}\")"
   ]
  },
  {
   "cell_type": "code",
   "execution_count": 63,
   "metadata": {},
   "outputs": [
    {
     "data": {
      "text/plain": [
       "Bar\n",
       "never    851\n",
       "less1    570\n",
       "1~3      397\n",
       "4~8      150\n",
       "gt8       49\n",
       "Name: count, dtype: int64"
      ]
     },
     "execution_count": 63,
     "metadata": {},
     "output_type": "execute_result"
    }
   ],
   "source": [
    "bar_coupons['Bar'].value_counts()"
   ]
  },
  {
   "cell_type": "code",
   "execution_count": 64,
   "metadata": {},
   "outputs": [
    {
     "name": "stdout",
     "output_type": "stream",
     "text": [
      "\n",
      "Updated dataset info:\n",
      "<class 'pandas.core.frame.DataFrame'>\n",
      "Index: 2017 entries, 9 to 12682\n",
      "Data columns (total 25 columns):\n",
      " #   Column                Non-Null Count  Dtype \n",
      "---  ------                --------------  ----- \n",
      " 0   destination           2017 non-null   object\n",
      " 1   passanger             2017 non-null   object\n",
      " 2   weather               2017 non-null   object\n",
      " 3   temperature           2017 non-null   int64 \n",
      " 4   time                  2017 non-null   object\n",
      " 5   coupon                2017 non-null   object\n",
      " 6   expiration            2017 non-null   object\n",
      " 7   gender                2017 non-null   object\n",
      " 8   age                   2017 non-null   int64 \n",
      " 9   maritalStatus         2017 non-null   object\n",
      " 10  has_children          2017 non-null   int64 \n",
      " 11  education             2017 non-null   object\n",
      " 12  occupation            2017 non-null   object\n",
      " 13  income                2017 non-null   int64 \n",
      " 14  Bar                   2017 non-null   int64 \n",
      " 15  CoffeeHouse           2017 non-null   object\n",
      " 16  CarryAway             2017 non-null   object\n",
      " 17  RestaurantLessThan20  2017 non-null   object\n",
      " 18  Restaurant20To50      2017 non-null   object\n",
      " 19  toCoupon_GEQ5min      2017 non-null   int64 \n",
      " 20  toCoupon_GEQ15min     2017 non-null   int64 \n",
      " 21  toCoupon_GEQ25min     2017 non-null   int64 \n",
      " 22  direction_same        2017 non-null   int64 \n",
      " 23  direction_opp         2017 non-null   int64 \n",
      " 24  Y                     2017 non-null   int64 \n",
      "dtypes: int64(11), object(14)\n",
      "memory usage: 409.7+ KB\n",
      "None\n",
      "\n",
      "Unique values in 'Bar' column after conversion:\n",
      "Bar\n",
      "0    851\n",
      "1    570\n",
      "2    397\n",
      "6    150\n",
      "9     49\n",
      "Name: count, dtype: int64\n",
      "\n",
      "First few rows of the updated DataFrame:\n",
      "       destination  passanger weather  temperature  time  \\\n",
      "0  No Urgent Place      Alone   Sunny           55   2PM   \n",
      "1  No Urgent Place  Friend(s)   Sunny           80  10AM   \n",
      "2  No Urgent Place  Friend(s)   Sunny           80  10AM   \n",
      "3  No Urgent Place  Friend(s)   Sunny           80   2PM   \n",
      "4  No Urgent Place  Friend(s)   Sunny           80   2PM   \n",
      "\n",
      "                  coupon expiration  gender  age      maritalStatus  ...  \\\n",
      "0        Restaurant(<20)         1d  Female   21  Unmarried partner  ...   \n",
      "1           Coffee House         2h  Female   21  Unmarried partner  ...   \n",
      "2  Carry out & Take away         2h  Female   21  Unmarried partner  ...   \n",
      "3           Coffee House         2h  Female   21  Unmarried partner  ...   \n",
      "4           Coffee House         1d  Female   21  Unmarried partner  ...   \n",
      "\n",
      "   CoffeeHouse CarryAway RestaurantLessThan20  Restaurant20To50  \\\n",
      "0        never       1~3                  4~8               1~3   \n",
      "1        never       1~3                  4~8               1~3   \n",
      "2        never       1~3                  4~8               1~3   \n",
      "3        never       1~3                  4~8               1~3   \n",
      "4        never       1~3                  4~8               1~3   \n",
      "\n",
      "  toCoupon_GEQ5min toCoupon_GEQ15min toCoupon_GEQ25min direction_same  \\\n",
      "0                1                 0                 0              0   \n",
      "1                1                 0                 0              0   \n",
      "2                1                 1                 0              0   \n",
      "3                1                 1                 0              0   \n",
      "4                1                 1                 0              0   \n",
      "\n",
      "  direction_opp  Y  \n",
      "0             1  1  \n",
      "1             1  0  \n",
      "2             1  1  \n",
      "3             1  0  \n",
      "4             1  0  \n",
      "\n",
      "[5 rows x 25 columns]\n"
     ]
    },
    {
     "name": "stderr",
     "output_type": "stream",
     "text": [
      "/var/folders/t4/9mx16sps4dj1sqdw_xpqfhk80000gn/T/ipykernel_42139/3857486777.py:11: SettingWithCopyWarning: \n",
      "A value is trying to be set on a copy of a slice from a DataFrame.\n",
      "Try using .loc[row_indexer,col_indexer] = value instead\n",
      "\n",
      "See the caveats in the documentation: https://pandas.pydata.org/pandas-docs/stable/user_guide/indexing.html#returning-a-view-versus-a-copy\n",
      "  bar_coupons['Bar'] = bar_coupons['Bar'].map(bar_mapping)\n"
     ]
    }
   ],
   "source": [
    "# Define the mapping from categorical to numerical values\n",
    "bar_mapping = {\n",
    "    'never': 0,\n",
    "    'less1': 1,\n",
    "    '1~3': 2,\n",
    "    '4~8': 6,\n",
    "    'gt8': 9\n",
    "}\n",
    "\n",
    "# Apply the mapping to the 'Bar' column\n",
    "bar_coupons['Bar'] = bar_coupons['Bar'].map(bar_mapping)\n",
    "\n",
    "# Display updated dataset info and unique values in 'Bar' column\n",
    "print(\"\\nUpdated dataset info:\")\n",
    "print(bar_coupons.info())\n",
    "print(\"\\nUnique values in 'Bar' column after conversion:\")\n",
    "print(bar_coupons['Bar'].value_counts())\n",
    "\n",
    "# Display the first few rows of the updated DataFrame\n",
    "print(\"\\nFirst few rows of the updated DataFrame:\")\n",
    "print(data.head())"
   ]
  },
  {
   "cell_type": "markdown",
   "metadata": {},
   "source": [
    "3. Compare the acceptance rate between those who went to a bar 3 or fewer times a month to those who went more.\n"
   ]
  },
  {
   "cell_type": "code",
   "execution_count": 65,
   "metadata": {},
   "outputs": [
    {
     "name": "stdout",
     "output_type": "stream",
     "text": [
      "Low frequency visitors (<= 3 times/month):\n",
      "Total number of 'bar' coupons: 1818\n",
      "Number of accepted 'bar' coupons: 674\n",
      "Proportion of accepted 'bar' coupons: 0.37\n",
      "\n",
      "High frequency visitors (> 3 times/month):\n",
      "Total number of 'bar' coupons: 199\n",
      "Number of accepted 'bar' coupons: 153\n",
      "Proportion of accepted 'bar' coupons: 0.77\n"
     ]
    }
   ],
   "source": [
    "\n",
    "# Categorize customers based on bar visits\n",
    "low_freq_visitors = bar_coupons[bar_coupons['Bar'] <= 3]\n",
    "high_freq_visitors = bar_coupons[bar_coupons['Bar'] > 3]\n",
    "\n",
    "# Calculate the total and accepted coupons for low frequency visitors\n",
    "total_low_freq = len(low_freq_visitors)\n",
    "accepted_low_freq = len(low_freq_visitors[low_freq_visitors['Y'] == 1])\n",
    "if total_low_freq == 0:\n",
    "    proportion_accepted_low_freq = 0\n",
    "else:\n",
    "    proportion_accepted_low_freq = accepted_low_freq / total_low_freq\n",
    "\n",
    "# Calculate the total and accepted coupons for high frequency visitors\n",
    "total_high_freq = len(high_freq_visitors)\n",
    "accepted_high_freq = len(high_freq_visitors[high_freq_visitors['Y'] == 1])\n",
    "if total_high_freq == 0:\n",
    "    proportion_accepted_high_freq = 0\n",
    "else:\n",
    "    proportion_accepted_high_freq = accepted_high_freq / total_high_freq\n",
    "\n",
    "# Display the results\n",
    "print(f\"Low frequency visitors (<= 3 times/month):\")\n",
    "print(f\"Total number of 'bar' coupons: {total_low_freq}\")\n",
    "print(f\"Number of accepted 'bar' coupons: {accepted_low_freq}\")\n",
    "print(f\"Proportion of accepted 'bar' coupons: {proportion_accepted_low_freq:.2f}\")\n",
    "\n",
    "print(\"\\nHigh frequency visitors (> 3 times/month):\")\n",
    "print(f\"Total number of 'bar' coupons: {total_high_freq}\")\n",
    "print(f\"Number of accepted 'bar' coupons: {accepted_high_freq}\")\n",
    "print(f\"Proportion of accepted 'bar' coupons: {proportion_accepted_high_freq:.2f}\")"
   ]
  },
  {
   "cell_type": "markdown",
   "metadata": {},
   "source": [
    "4. Compare the acceptance rate between drivers who go to a bar more than once a month and are over the age of 25 to the all others.  Is there a difference?\n"
   ]
  },
  {
   "cell_type": "code",
   "execution_count": 66,
   "metadata": {},
   "outputs": [
    {
     "name": "stdout",
     "output_type": "stream",
     "text": [
      "Group 1 (Drivers who go to a bar > once/month and are > 25 years old):\n",
      "Total number of 'bar' coupons: 420\n",
      "Number of accepted 'bar' coupons: 292\n",
      "Proportion of accepted 'bar' coupons: 0.70\n",
      "\n",
      "Group 2 (All other drivers):\n",
      "Total number of 'bar' coupons: 1597\n",
      "Number of accepted 'bar' coupons: 535\n",
      "Proportion of accepted 'bar' coupons: 0.34\n"
     ]
    }
   ],
   "source": [
    "# Define the two groups\n",
    "group1 = bar_coupons[(bar_coupons['Bar'] > 1) & (bar_coupons['age'] > 25)]\n",
    "group2 = bar_coupons[~((bar_coupons['Bar'] > 1) & (bar_coupons['age'] > 25))]\n",
    "\n",
    "# Calculate acceptance rates for Group 1\n",
    "total_group1 = len(group1)\n",
    "accepted_group1 = len(group1[group1['Y'] == 1])\n",
    "if total_group1 == 0:\n",
    "    proportion_accepted_group1 = 0\n",
    "else:\n",
    "    proportion_accepted_group1 = accepted_group1 / total_group1\n",
    "\n",
    "# Calculate acceptance rates for Group 2\n",
    "total_group2 = len(group2)\n",
    "accepted_group2 = len(group2[group2['Y'] == 1])\n",
    "if total_group2 == 0:\n",
    "    proportion_accepted_group2 = 0\n",
    "else:\n",
    "    proportion_accepted_group2 = accepted_group2 / total_group2\n",
    "\n",
    "# Display the results\n",
    "print(f\"Group 1 (Drivers who go to a bar > once/month and are > 25 years old):\")\n",
    "print(f\"Total number of 'bar' coupons: {total_group1}\")\n",
    "print(f\"Number of accepted 'bar' coupons: {accepted_group1}\")\n",
    "print(f\"Proportion of accepted 'bar' coupons: {proportion_accepted_group1:.2f}\")\n",
    "\n",
    "print(\"\\nGroup 2 (All other drivers):\")\n",
    "print(f\"Total number of 'bar' coupons: {total_group2}\")\n",
    "print(f\"Number of accepted 'bar' coupons: {accepted_group2}\")\n",
    "print(f\"Proportion of accepted 'bar' coupons: {proportion_accepted_group2:.2f}\")"
   ]
  },
  {
   "cell_type": "code",
   "execution_count": 80,
   "metadata": {},
   "outputs": [
    {
     "data": {
      "text/plain": [
       "passanger\n",
       "Alone      1200\n",
       "Friend      337\n",
       "Partner     274\n",
       "Kid         206\n",
       "Name: count, dtype: int64"
      ]
     },
     "execution_count": 80,
     "metadata": {},
     "output_type": "execute_result"
    }
   ],
   "source": [
    "# bar_coupons['passanger'] = bar_coupons['passanger'].str.replace(r'\\(s\\)', '', regex=True).str.strip()\n",
    "# Clean the 'passenger' column by removing '(s)'\n",
    "data.loc[:, 'passanger'] = data['passanger'].str.replace(r'\\(s\\)', '', regex=True).str.strip()\n",
    "bar_coupons['passanger'].value_counts()"
   ]
  },
  {
   "cell_type": "markdown",
   "metadata": {},
   "source": [
    "5. Use the same process to compare the acceptance rate between drivers who go to bars more than once a month and had passengers that were not a kid and had occupations other than farming, fishing, or forestry. \n"
   ]
  },
  {
   "cell_type": "code",
   "execution_count": 76,
   "metadata": {},
   "outputs": [
    {
     "name": "stdout",
     "output_type": "stream",
     "text": [
      "Group 1 (Drivers who go to a bar > once/month, with no kid passengers, and occupations other than farming, fishing, or forestry):\n",
      "Total number of 'bar' coupons: 596\n",
      "Number of accepted 'bar' coupons: 410\n",
      "Proportion of accepted 'bar' coupons: 0.69\n",
      "\n",
      "Group 2 (All other drivers):\n",
      "Total number of 'bar' coupons: 1421\n",
      "Number of accepted 'bar' coupons: 417\n",
      "Proportion of accepted 'bar' coupons: 0.29\n"
     ]
    }
   ],
   "source": [
    "excluded_occupations = ['farming', 'fishing', 'forestry']\n",
    "group1 = bar_coupons.loc[(bar_coupons['Bar'] > 1) & (bar_coupons['passanger'] != 'kid') & (~bar_coupons['occupation'].isin(excluded_occupations))]\n",
    "group2 = bar_coupons.loc[~((bar_coupons['Bar'] > 1) & (bar_coupons['passanger'] != 'kid') & (~bar_coupons['occupation'].isin(excluded_occupations)))]\n",
    "\n",
    "# Calculate acceptance rates for Group 1\n",
    "total_group1 = len(group1)\n",
    "accepted_group1 = len(group1[group1['Y'] == 1])\n",
    "if total_group1 == 0:\n",
    "    proportion_accepted_group1 = 0\n",
    "else:\n",
    "    proportion_accepted_group1 = accepted_group1 / total_group1\n",
    "\n",
    "# Calculate acceptance rates for Group 2\n",
    "total_group2 = len(group2)\n",
    "accepted_group2 = len(group2[group2['Y'] == 1])\n",
    "if total_group2 == 0:\n",
    "    proportion_accepted_group2 = 0\n",
    "else:\n",
    "    proportion_accepted_group2 = accepted_group2 / total_group2\n",
    "\n",
    "# Display the results\n",
    "print(f\"Group 1 (Drivers who go to a bar > once/month, with no kid passengers, and occupations other than farming, fishing, or forestry):\")\n",
    "print(f\"Total number of 'bar' coupons: {total_group1}\")\n",
    "print(f\"Number of accepted 'bar' coupons: {accepted_group1}\")\n",
    "print(f\"Proportion of accepted 'bar' coupons: {proportion_accepted_group1:.2f}\")\n",
    "\n",
    "print(\"\\nGroup 2 (All other drivers):\")\n",
    "print(f\"Total number of 'bar' coupons: {total_group2}\")\n",
    "print(f\"Number of accepted 'bar' coupons: {accepted_group2}\")\n",
    "print(f\"Proportion of accepted 'bar' coupons: {proportion_accepted_group2:.2f}\")"
   ]
  },
  {
   "cell_type": "markdown",
   "metadata": {},
   "source": [
    "6. Compare the acceptance rates between those drivers who:\n",
    "\n",
    "- go to bars more than once a month, had passengers that were not a kid, and were not widowed *OR*\n",
    "- go to bars more than once a month and are under the age of 30 *OR*\n",
    "- go to cheap restaurants more than 4 times a month and income is less than 50K. \n",
    "\n"
   ]
  },
  {
   "cell_type": "code",
   "execution_count": 78,
   "metadata": {},
   "outputs": [
    {
     "name": "stdout",
     "output_type": "stream",
     "text": [
      "Combined Group (Drivers who fit at least one of the criteria):\n",
      "Total number of 'bar' coupons: 1057\n",
      "Number of accepted 'bar' coupons: 530\n",
      "Proportion of accepted 'bar' coupons: 0.50\n",
      "\n",
      "Remaining Group (All other drivers):\n",
      "Total number of 'bar' coupons: 11627\n",
      "Number of accepted 'bar' coupons: 6680\n",
      "Proportion of accepted 'bar' coupons: 0.57\n"
     ]
    }
   ],
   "source": [
    "restaurant_mapping = {\n",
    "    'never': 0,\n",
    "    'less1': 1,\n",
    "    '1~3': 2,\n",
    "    '4~8': 6,\n",
    "    'gt8': 9\n",
    "}\n",
    "\n",
    "#bar_coupons['RestaurantLessThan20'] = bar_coupons['RestaurantLessThan20'].map(restaurant_mapping)\n",
    "data.loc[:, 'RestaurantLessThan20'] = data['RestaurantLessThan20'].map(restaurant_mapping)\n",
    "\n",
    "# Define the groups\n",
    "group1 = bar_coupons[(bar_coupons['Bar'] > 1) & (bar_coupons['passanger'] != 'kid') & (bar_coupons['maritalStatus'] != 'Widowed')]\n",
    "group2 = bar_coupons[(bar_coupons['Bar'] > 1) & (bar_coupons['age'] < 30)]\n",
    "group3 = bar_coupons[(bar_coupons['RestaurantLessThan20'] > 3) & (bar_coupons['income'] < 50000)]\n",
    "\n",
    "# Combine the groups\n",
    "combined_group = pd.concat([group1, group2, group3]).drop_duplicates()\n",
    "\n",
    "# Calculate acceptance rates for the combined group\n",
    "total_combined_group = len(combined_group)\n",
    "accepted_combined_group = len(combined_group[combined_group['Y'] == 1])\n",
    "if total_combined_group == 0:\n",
    "    proportion_accepted_combined_group = 0\n",
    "else:\n",
    "    proportion_accepted_combined_group = accepted_combined_group / total_combined_group\n",
    "\n",
    "# Calculate acceptance rates for the rest of the data\n",
    "remaining_group = data[~data.index.isin(combined_group.index)]\n",
    "total_remaining_group = len(remaining_group)\n",
    "accepted_remaining_group = len(remaining_group[remaining_group['Y'] == 1])\n",
    "if total_remaining_group == 0:\n",
    "    proportion_accepted_remaining_group = 0\n",
    "else:\n",
    "    proportion_accepted_remaining_group = accepted_remaining_group / total_remaining_group\n",
    "\n",
    "# Display the results\n",
    "print(f\"Combined Group (Drivers who fit at least one of the criteria):\")\n",
    "print(f\"Total number of 'bar' coupons: {total_combined_group}\")\n",
    "print(f\"Number of accepted 'bar' coupons: {accepted_combined_group}\")\n",
    "print(f\"Proportion of accepted 'bar' coupons: {proportion_accepted_combined_group:.2f}\")\n",
    "\n",
    "print(\"\\nRemaining Group (All other drivers):\")\n",
    "print(f\"Total number of 'bar' coupons: {total_remaining_group}\")\n",
    "print(f\"Number of accepted 'bar' coupons: {accepted_remaining_group}\")\n",
    "print(f\"Proportion of accepted 'bar' coupons: {proportion_accepted_remaining_group:.2f}\")"
   ]
  },
  {
   "cell_type": "markdown",
   "metadata": {},
   "source": [
    "7.  Based on these observations, what do you hypothesize about drivers who accepted the bar coupons?"
   ]
  },
  {
   "cell_type": "code",
   "execution_count": 81,
   "metadata": {},
   "outputs": [],
   "source": [
    "# Drivers who frequently visit bars (more than once a month) are more likely to accept bar coupons. \n",
    "# This suggests that these drivers have a social and outgoing lifestyle that includes regular visits to bars.\n",
    "\n",
    "# Drivers under the age of 30 tend to accept bar coupons more often than older drivers. \n",
    "# This implies that younger individuals are more receptive to promotional offers related to social activities like going to bars.\n",
    "\n",
    "#Drivers who are not widowed and who typically have passengers that are not kids are more likely to accept bar coupons. \n",
    "# This may indicate that these drivers engage in social activities with adults and are therefore more inclined to utilize bar coupons.\n",
    "\n",
    "#Drivers who visit cheap restaurants more than four times a month and have an income of less than 50K are also likely to accept bar coupons. \n",
    "#This suggests that budget-conscious drivers who seek value in their dining options are receptive to bar coupons as an affordable social option."
   ]
  },
  {
   "cell_type": "markdown",
   "metadata": {},
   "source": [
    "### Independent Investigation\n",
    "\n",
    "Using the bar coupon example as motivation, you are to explore one of the other coupon groups and try to determine the characteristics of passengers who accept the coupons.  "
   ]
  },
  {
   "cell_type": "code",
   "execution_count": 85,
   "metadata": {},
   "outputs": [
    {
     "name": "stdout",
     "output_type": "stream",
     "text": [
      "Summary statistics for those who accepted the 'RestaurantLessThan20' coupons:\n",
      "            destination passanger weather  temperature  time        coupon  \\\n",
      "count              7210      7210    7210  7210.000000  7210          7210   \n",
      "unique                3         4       3          NaN     5             5   \n",
      "top     No Urgent Place     Alone   Sunny          NaN   6PM  Coffee House   \n",
      "freq               3982      3841    5989          NaN  1888          1995   \n",
      "mean                NaN       NaN     NaN    64.323856   NaN           NaN   \n",
      "std                 NaN       NaN     NaN    18.959363   NaN           NaN   \n",
      "min                 NaN       NaN     NaN    30.000000   NaN           NaN   \n",
      "25%                 NaN       NaN     NaN    55.000000   NaN           NaN   \n",
      "50%                 NaN       NaN     NaN    80.000000   NaN           NaN   \n",
      "75%                 NaN       NaN     NaN    80.000000   NaN           NaN   \n",
      "max                 NaN       NaN     NaN    80.000000   NaN           NaN   \n",
      "\n",
      "       expiration gender          age maritalStatus  ...  CoffeeHouse  \\\n",
      "count        7210   7210  7210.000000          7210  ...         7210   \n",
      "unique          2      2          NaN             5  ...            5   \n",
      "top            1d   Male          NaN        Single  ...          1~3   \n",
      "freq         4436   3647          NaN          2879  ...         2109   \n",
      "mean          NaN    NaN    32.324411           NaN  ...          NaN   \n",
      "std           NaN    NaN    11.395281           NaN  ...          NaN   \n",
      "min           NaN    NaN    18.000000           NaN  ...          NaN   \n",
      "25%           NaN    NaN    21.000000           NaN  ...          NaN   \n",
      "50%           NaN    NaN    31.000000           NaN  ...          NaN   \n",
      "75%           NaN    NaN    41.000000           NaN  ...          NaN   \n",
      "max           NaN    NaN    55.000000           NaN  ...          NaN   \n",
      "\n",
      "       CarryAway RestaurantLessThan20  Restaurant20To50 toCoupon_GEQ5min  \\\n",
      "count       7210                  0.0              7210           7210.0   \n",
      "unique         5                  NaN                 5              NaN   \n",
      "top          1~3                  NaN             less1              NaN   \n",
      "freq        2813                  NaN              3495              NaN   \n",
      "mean         NaN                  NaN               NaN              1.0   \n",
      "std          NaN                  NaN               NaN              0.0   \n",
      "min          NaN                  NaN               NaN              1.0   \n",
      "25%          NaN                  NaN               NaN              1.0   \n",
      "50%          NaN                  NaN               NaN              1.0   \n",
      "75%          NaN                  NaN               NaN              1.0   \n",
      "max          NaN                  NaN               NaN              1.0   \n",
      "\n",
      "       toCoupon_GEQ15min toCoupon_GEQ25min  direction_same direction_opp  \\\n",
      "count        7210.000000       7210.000000     7210.000000   7210.000000   \n",
      "unique               NaN               NaN             NaN           NaN   \n",
      "top                  NaN               NaN             NaN           NaN   \n",
      "freq                 NaN               NaN             NaN           NaN   \n",
      "mean            0.526214          0.089875        0.219972      0.780028   \n",
      "std             0.499347          0.286023        0.414256      0.414256   \n",
      "min             0.000000          0.000000        0.000000      0.000000   \n",
      "25%             0.000000          0.000000        0.000000      1.000000   \n",
      "50%             1.000000          0.000000        0.000000      1.000000   \n",
      "75%             1.000000          0.000000        0.000000      1.000000   \n",
      "max             1.000000          1.000000        1.000000      1.000000   \n",
      "\n",
      "             Y  \n",
      "count   7210.0  \n",
      "unique     NaN  \n",
      "top        NaN  \n",
      "freq       NaN  \n",
      "mean       1.0  \n",
      "std        0.0  \n",
      "min        1.0  \n",
      "25%        1.0  \n",
      "50%        1.0  \n",
      "75%        1.0  \n",
      "max        1.0  \n",
      "\n",
      "[11 rows x 25 columns]\n",
      "\n",
      "Summary statistics for those who did not accept the 'RestaurantLessThan20' coupons:\n",
      "            destination passanger weather  temperature  time        coupon  \\\n",
      "count              5474      5474    5474  5474.000000  5474          5474   \n",
      "unique                3         4       3          NaN     5             5   \n",
      "top     No Urgent Place     Alone   Sunny          NaN   7AM  Coffee House   \n",
      "freq               2301      3464    4080          NaN  1575          2001   \n",
      "mean                NaN       NaN     NaN    61.955608   NaN           NaN   \n",
      "std                 NaN       NaN     NaN    19.327919   NaN           NaN   \n",
      "min                 NaN       NaN     NaN    30.000000   NaN           NaN   \n",
      "25%                 NaN       NaN     NaN    55.000000   NaN           NaN   \n",
      "50%                 NaN       NaN     NaN    55.000000   NaN           NaN   \n",
      "75%                 NaN       NaN     NaN    80.000000   NaN           NaN   \n",
      "max                 NaN       NaN     NaN    80.000000   NaN           NaN   \n",
      "\n",
      "       expiration  gender          age    maritalStatus  ...  CoffeeHouse  \\\n",
      "count        5474    5474  5474.000000             5474  ...         5474   \n",
      "unique          2       2          NaN                5  ...            5   \n",
      "top            2h  Female          NaN  Married partner  ...        less1   \n",
      "freq         2819    2948          NaN             2331  ...         1641   \n",
      "mean          NaN     NaN    33.693095              NaN  ...          NaN   \n",
      "std           NaN     NaN    11.782303              NaN  ...          NaN   \n",
      "min           NaN     NaN    18.000000              NaN  ...          NaN   \n",
      "25%           NaN     NaN    26.000000              NaN  ...          NaN   \n",
      "50%           NaN     NaN    31.000000              NaN  ...          NaN   \n",
      "75%           NaN     NaN    41.000000              NaN  ...          NaN   \n",
      "max           NaN     NaN    55.000000              NaN  ...          NaN   \n",
      "\n",
      "       CarryAway RestaurantLessThan20  Restaurant20To50 toCoupon_GEQ5min  \\\n",
      "count       5474                  0.0              5474           5474.0   \n",
      "unique         5                  NaN                 5              NaN   \n",
      "top          1~3                  NaN             less1              NaN   \n",
      "freq        2010                  NaN              2771              NaN   \n",
      "mean         NaN                  NaN               NaN              1.0   \n",
      "std          NaN                  NaN               NaN              0.0   \n",
      "min          NaN                  NaN               NaN              1.0   \n",
      "25%          NaN                  NaN               NaN              1.0   \n",
      "50%          NaN                  NaN               NaN              1.0   \n",
      "75%          NaN                  NaN               NaN              1.0   \n",
      "max          NaN                  NaN               NaN              1.0   \n",
      "\n",
      "       toCoupon_GEQ15min toCoupon_GEQ25min  direction_same direction_opp  \\\n",
      "count        5474.000000       5474.000000     5474.000000   5474.000000   \n",
      "unique               NaN               NaN             NaN           NaN   \n",
      "top                  NaN               NaN             NaN           NaN   \n",
      "freq                 NaN               NaN             NaN           NaN   \n",
      "mean            0.607965          0.157654        0.207892      0.792108   \n",
      "std             0.488249          0.364450        0.405836      0.405836   \n",
      "min             0.000000          0.000000        0.000000      0.000000   \n",
      "25%             0.000000          0.000000        0.000000      1.000000   \n",
      "50%             1.000000          0.000000        0.000000      1.000000   \n",
      "75%             1.000000          0.000000        0.000000      1.000000   \n",
      "max             1.000000          1.000000        1.000000      1.000000   \n",
      "\n",
      "             Y  \n",
      "count   5474.0  \n",
      "unique     NaN  \n",
      "top        NaN  \n",
      "freq       NaN  \n",
      "mean       0.0  \n",
      "std        0.0  \n",
      "min        0.0  \n",
      "25%        0.0  \n",
      "50%        0.0  \n",
      "75%        0.0  \n",
      "max        0.0  \n",
      "\n",
      "[11 rows x 25 columns]\n"
     ]
    }
   ],
   "source": [
    "\n",
    "# Clean the 'passenger' column by removing '(s)'\n",
    "data['passanger'] = data['passanger'].str.replace(r'\\(s\\)', '', regex=True).str.strip()\n",
    "\n",
    "# Convert the 'RestaurantLessThan20' column to numerical values\n",
    "restaurant_mapping = {\n",
    "    'never': 0,\n",
    "    'less1': 1,\n",
    "    '1~3': 2,\n",
    "    '4~8': 3,\n",
    "    'gt8': 4\n",
    "}\n",
    "data['RestaurantLessThan20'] = data['RestaurantLessThan20'].map(restaurant_mapping)\n",
    "\n",
    "# Define the groups\n",
    "accepted_restaurant_coupons = data[data['Y'] == 1]\n",
    "not_accepted_restaurant_coupons = data[data['Y'] == 0]\n",
    "\n",
    "# Analyze characteristics of those who accepted the coupons\n",
    "accepted_stats = accepted_restaurant_coupons.describe(include='all')\n",
    "not_accepted_stats = not_accepted_restaurant_coupons.describe(include='all')\n",
    "\n",
    "# Display summary statistics\n",
    "print(\"Summary statistics for those who accepted the 'RestaurantLessThan20' coupons:\")\n",
    "print(accepted_stats)\n",
    "\n",
    "print(\"\\nSummary statistics for those who did not accept the 'RestaurantLessThan20' coupons:\")\n",
    "print(not_accepted_stats)\n",
    "\n"
   ]
  },
  {
   "cell_type": "code",
   "execution_count": 86,
   "metadata": {},
   "outputs": [
    {
     "data": {
      "image/png": "[encoded data removed]",
      "text/plain": [
       "<Figure size 1200x600 with 1 Axes>"
      ]
     },
     "metadata": {},
     "output_type": "display_data"
    }
   ],
   "source": [
    "# Compare distributions using visualizations\n",
    "plt.figure(figsize=(12, 6))\n",
    "sns.countplot(data=accepted_restaurant_coupons, x='age')\n",
    "plt.title('Age Distribution of Passengers Who Accepted Restaurant Coupons (<$20)')\n",
    "plt.xlabel('Age')\n",
    "plt.ylabel('Count')\n",
    "plt.show()\n",
    "\n"
   ]
  },
  {
   "cell_type": "code",
   "execution_count": 87,
   "metadata": {},
   "outputs": [
    {
     "data": {
      "image/png": "[encoded data removed]",
      "text/plain": [
       "<Figure size 1200x600 with 1 Axes>"
      ]
     },
     "metadata": {},
     "output_type": "display_data"
    }
   ],
   "source": [
    "plt.figure(figsize=(12, 6))\n",
    "sns.countplot(data=accepted_restaurant_coupons, x='passanger')\n",
    "plt.title('Passenger Distribution of Those Who Accepted Restaurant Coupons (<$20)')\n",
    "plt.xlabel('Passenger')\n",
    "plt.ylabel('Count')\n",
    "plt.show()\n"
   ]
  },
  {
   "cell_type": "code",
   "execution_count": 88,
   "metadata": {},
   "outputs": [
    {
     "data": {
      "image/png": "[encoded data removed]",
      "text/plain": [
       "<Figure size 1200x600 with 1 Axes>"
      ]
     },
     "metadata": {},
     "output_type": "display_data"
    }
   ],
   "source": [
    "\n",
    "plt.figure(figsize=(12, 6))\n",
    "sns.countplot(data=accepted_restaurant_coupons, x='income')\n",
    "plt.title('Income Distribution of Those Who Accepted Restaurant Coupons (<$20)')\n",
    "plt.xlabel('Income')\n",
    "plt.ylabel('Count')\n",
    "plt.show()\n",
    "\n"
   ]
  },
  {
   "cell_type": "code",
   "execution_count": 89,
   "metadata": {},
   "outputs": [
    {
     "data": {
      "image/png": "[encoded data removed]",
      "text/plain": [
       "<Figure size 1200x600 with 1 Axes>"
      ]
     },
     "metadata": {},
     "output_type": "display_data"
    }
   ],
   "source": [
    "plt.figure(figsize=(12, 6))\n",
    "sns.countplot(data=accepted_restaurant_coupons, x='maritalStatus')\n",
    "plt.title('Marital Status of Those Who Accepted Restaurant Coupons (<$20)')\n",
    "plt.xlabel('Marital Status')\n",
    "plt.ylabel('Count')\n",
    "plt.show()\n"
   ]
  },
  {
   "cell_type": "code",
   "execution_count": null,
   "metadata": {},
   "outputs": [],
   "source": []
  },
  {
   "cell_type": "code",
   "execution_count": null,
   "metadata": {},
   "outputs": [],
   "source": []
  }
 ],
 "metadata": {
  "kernelspec": {
   "display_name": "Python 3 (ipykernel)",
   "language": "python",
   "name": "python3"
  },
  "language_info": {
   "codemirror_mode": {
    "name": "ipython",
    "version": 3
   },
   "file_extension": ".py",
   "mimetype": "text/x-python",
   "name": "python",
   "nbconvert_exporter": "python",
   "pygments_lexer": "ipython3",
   "version": "3.11.7"
  },
  "widgets": {
   "application/vnd.jupyter.widget-state+json": {
    "state": {},
    "version_major": 2,
    "version_minor": 0
   }
  }
 },
 "nbformat": 4,
 "nbformat_minor": 4
}
